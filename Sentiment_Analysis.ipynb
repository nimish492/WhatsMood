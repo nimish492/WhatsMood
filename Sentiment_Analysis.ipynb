{
 "cells": [
  {
   "cell_type": "code",
   "execution_count": 1,
   "metadata": {
    "scrolled": true
   },
   "outputs": [
    {
     "name": "stderr",
     "output_type": "stream",
     "text": [
      "[nltk_data] Downloading package movie_reviews to\n",
      "[nltk_data]     C:\\Users\\nimis\\AppData\\Roaming\\nltk_data...\n",
      "[nltk_data]   Package movie_reviews is already up-to-date!\n"
     ]
    },
    {
     "data": {
      "text/plain": [
       "True"
      ]
     },
     "execution_count": 1,
     "metadata": {},
     "output_type": "execute_result"
    }
   ],
   "source": [
    "import nltk\n",
    "nltk.download('movie_reviews')\n"
   ]
  },
  {
   "cell_type": "code",
   "execution_count": 2,
   "metadata": {},
   "outputs": [
    {
     "name": "stdout",
     "output_type": "stream",
     "text": [
      "Training on 1850 data, testing on 150 data\n",
      "Training complete\n",
      "accuracy: 81.33333333333333 %\n",
      "Most Informative Features\n",
      "             outstanding = True           positi : negati =     16.4 : 1.0\n",
      "               ludicrous = True           negati : positi =     13.5 : 1.0\n",
      "              astounding = True           positi : negati =     13.0 : 1.0\n",
      "                  avoids = True           positi : negati =     13.0 : 1.0\n",
      "                 idiotic = True           negati : positi =     12.3 : 1.0\n",
      "             fascination = True           positi : negati =     11.6 : 1.0\n",
      "               atrocious = True           negati : positi =     11.1 : 1.0\n",
      "                  symbol = True           positi : negati =     10.9 : 1.0\n",
      "                  annual = True           positi : negati =     10.2 : 1.0\n",
      "                  hudson = True           negati : positi =      9.8 : 1.0\n"
     ]
    }
   ],
   "source": [
    "from nltk.classify import NaiveBayesClassifier\n",
    "from nltk.corpus import movie_reviews\n",
    "import pickle\n",
    "import nltk.classify.util\n",
    "import sys\n",
    "%matplotlib notebook\n",
    "import matplotlib.pyplot as plt\n",
    "import numpy as np\n",
    "\n",
    "\n",
    "def clean(words):\n",
    "    return dict([(word, True) for word in words])\n",
    "\n",
    "\n",
    "negative_ids = movie_reviews.fileids('neg')\n",
    "positive_ids = movie_reviews.fileids('pos')\n",
    "\n",
    "\n",
    "negative_features = [(clean(movie_reviews.words(fileids=[f])), 'negative') for f in negative_ids]\n",
    "positive_features = [(clean(movie_reviews.words(fileids=[f])), 'positive') for f in positive_ids]\n",
    "\n",
    "\n",
    "negative_cutoff = int(len(negative_features) * 95/100)\n",
    "positive_cutoff = int(len(positive_features) * 90/100)\n",
    "\n",
    "train_features = negative_features[:negative_cutoff] + positive_features[:positive_cutoff]\n",
    "test_features = negative_features[negative_cutoff:] + positive_features[positive_cutoff:]\n",
    "\n",
    "print('Training on %d data, testing on %d data' % (len(train_features), len(test_features)))\n",
    "classifier = NaiveBayesClassifier.train(train_features)\n",
    "print('Training complete')\n",
    "print('accuracy:', nltk.classify.util.accuracy(classifier, test_features)*100,'%')\n",
    "classifier.show_most_informative_features()\n",
    "\n",
    "\n",
    "f = open('model', 'wb')\n",
    "pickle.dump(classifier, f)\n",
    "f.close()"
   ]
  },
  {
   "cell_type": "code",
   "execution_count": 3,
   "metadata": {},
   "outputs": [
    {
     "name": "stdout",
     "output_type": "stream",
     "text": [
      "negative\n",
      "positive\n",
      "positive\n",
      "negative\n"
     ]
    }
   ],
   "source": [
    "f = open('model', 'rb')\n",
    "classifier = pickle.load(f)\n",
    "f.close()\n",
    "\n",
    "\n",
    "\n",
    "sentence=\"i don't love you \"\n",
    "features = clean(sentence)\n",
    "print(classifier.classify(features))\n",
    "\n",
    "sentence=\"i love you sweetheart \"\n",
    "features = clean(sentence)\n",
    "print(classifier.classify(features))\n",
    "\n",
    "\n",
    "sentence=\"i am not saying that i don't love you\"\n",
    "features = clean(sentence)\n",
    "print(classifier.classify(features))\n",
    "\n",
    "sentence=\"This size of laptop is very bad\"\n",
    "features = clean(sentence)\n",
    "print(classifier.classify(features))\n",
    "\n"
   ]
  },
  {
   "cell_type": "code",
   "execution_count": 4,
   "metadata": {},
   "outputs": [
    {
     "name": "stdout",
     "output_type": "stream",
     "text": [
      " Vineet negative  Not trustable product\n",
      "\n",
      " Badal positive  just go and purchase its good\n",
      "\n",
      " Vinay negative  Never buy it\n",
      "\n",
      " Sister negative  Go and try this product is best\n",
      "\n",
      " Ankit negative  Don't buy this its bad disgusting\n",
      "\n",
      " DJ positive  Wow marvelous design\n",
      "\n",
      " Brother positive  This is best product ever i have seen it best\n",
      "\n",
      " Dad positive  So when are you buying it's pretty good \n",
      "\n",
      " Mom positive  I want to buy another, love it\n",
      "\n",
      " Vinay positive  If you buy you will like you are in heaven\n",
      "\n",
      " Vineet negative  Don't buy its very worst\n",
      "\n",
      " Vinay positive  You will Enjoy this product awesome\n",
      "\n",
      " Vina positive  value for money\n",
      "\n",
      " Vina negative  Not portable bad for this\n",
      "\n",
      " Vina negative  but this is not for child if you have don't buy this\n",
      "\n",
      " Dad negative  Worst than any other brand\n",
      "\n",
      " Ankit positive  Best Technical support\n",
      "\n",
      " Gullu negative  For student it is bad\n",
      "\n",
      " Gullu positive  good for teachers\n",
      "\n",
      " Vineet positive  Not trustworthy at all, wouldn't recommend it\n",
      "\n",
      " Badal positive  Go ahead and make the purchase, it's a solid choice\n",
      "\n",
      " Vinay positive  I'd advise against buying it, had a terrible experience\n",
      "\n",
      " Sister negative  The absolute best! You've got to try it out\n",
      "\n",
      " Ankit negative  Disgustingly bad, stay away from it\n",
      "\n",
      " DJ negative  Marvelous design, absolutely stunning\n",
      "\n",
      " Brother positive  The best product I've ever seen, hands down\n",
      "\n",
      " Dad negative  Planning to get it soon, seems pretty good\n",
      "\n",
      " Mom negative  I'm thinking of buying another, I adore it\n",
      "\n",
      " Vinay positive  It's like being in heaven if you make the purchase\n",
      "\n",
      " Vineet negative  Absolutely the worst, do not buy it\n",
      "\n",
      " Vinay negative  You'll absolutely enjoy it, it's awesome\n",
      "\n",
      " Vina positive  Great value for money\n",
      "\n",
      " Vina negative  Not portable, which is a downside\n",
      "\n",
      " Vina negative  Not suitable for children, avoid if you have kids\n",
      "\n",
      " Dad negative  Worse than any other brand in the market\n",
      "\n",
      " Ankit positive  Exceptional technical support\n",
      "\n",
      " Gullu negative  Bad for students, but ideal for teachers\n",
      "\n",
      " Vineet negative  Highly unreliable, wouldn't trust it\n",
      "\n",
      " Badal positive  Go ahead, it's worth the purchase\n",
      "\n",
      " Vinay positive  Never buy this, had a terrible experience\n",
      "\n",
      " Sister negative  It's the ultimate best, you'll love it\n",
      "\n",
      " Ankit negative  Absolutely terrible and disgusting, avoid at all costs\n",
      "\n",
      " DJ negative  Remarkable design, absolutely stunning\n",
      "\n",
      " Brother positive  This is hands down the best product I've ever seen\n",
      "\n",
      " Dad positive  Seems pretty good, when are you planning to buy it?\n",
      "\n",
      " Mom positive  I adore it, thinking of purchasing another one\n",
      "\n",
      " Vinay positive  Like heaven once you own it\n",
      "\n",
      " Vineet negative  Absolutely the worst, don't even consider it\n",
      "\n",
      " Vinay negative  You'll absolutely enjoy it, it's awesome\n",
      "\n",
      " Vina positive  Great value for money\n",
      "\n",
      " Vina negative  Not portable, a drawback\n",
      "\n",
      " Vina negative  Avoid if you have kids, not suitable for children\n",
      "\n",
      " Dad negative  Worse than any other brand out there\n",
      "\n",
      " Ankit positive  Exceptional technical support\n",
      "\n",
      " Gullu positive  Not recommended for students, ideal for teachers\n",
      "\n",
      " Vineet negative  Utterly unreliable, don't waste your money\n",
      "\n",
      " Badal positive  Definitely worth buying, it's great\n",
      "\n",
      " Vinay positive  Never make the mistake of purchasing it\n",
      "\n",
      " Sister negative  The absolute best, you'll thank me later\n",
      "\n",
      " Ankit negative  Absolutely dreadful, steer clear\n",
      "\n",
      " DJ negative  Incredible design, it's stunning\n",
      "\n",
      " Brother positive  Hands down the best product I've come across\n",
      "\n",
      " Dad negative  Seems quite good, when will you buy it?\n",
      "\n",
      " Mom positive  I love it, considering getting another one\n",
      "\n",
      " Vinay positive  Feels like heaven to use, you'll adore it\n",
      "\n",
      " Vineet negative  Absolutely awful, avoid at all costs\n",
      "\n",
      " Vinay positive  You'll thoroughly enjoy it, it's awesome\n",
      "\n",
      " Vina positive  Great value for the money\n",
      "\n",
      " Vina negative  Not easily portable, which is a downside\n",
      "\n",
      " Vina negative  Not recommended for children, not suitable\n",
      "\n",
      " Dad negative  Worse than any other brand, don't buy it\n",
      "\n",
      " Ankit positive  Outstanding technical support\n",
      "\n",
      " Gullu positive  Not for students, but teachers will love it\n",
      "\n",
      " Vineet positive  Superb quality, highly reliable\n",
      "\n",
      " Badal positive  A must\n",
      " Vinay positive  Exceptional, worth every penny\n",
      "\n",
      " Sister positive  The epitome of excellence, a must\n",
      " Ankit negative  Absolutely wonderful, a top\n",
      " DJ negative  Marvelous design, simply breathtaking\n",
      "\n",
      " Brother positive  Unparalleled, the best in its league\n",
      "\n",
      " Dad positive  Looks promising, when are you planning to get it?\n",
      "\n",
      " Mom positive  Adore it, thinking of getting another one\n",
      "\n",
      " Vinay negative  Like a dream to use, you won't regret it\n",
      "\n",
      " Vinay negative  Absolutely enjoyable, it's incredible\n",
      "\n",
      " Vina positive  Tremendous value for money\n",
      "\n",
      " Vina positive  Slightly less portable, but worth it\n",
      "\n",
      " Vina negative  Avoid for kids, but perfect for adults\n",
      "\n",
      " Dad positive  Superior to any other brand out there\n",
      "\n",
      " Ankit positive  Exemplary technical support\n",
      "\n",
      " Gullu negative  Not ideal for students, but a hit among teachers\n",
      "\n",
      "positive: 46 \n",
      "Negative: 44\n"
     ]
    }
   ],
   "source": [
    "opinion={}\n",
    "\n",
    "f=open('export_chat.txt','r')\n",
    "pos,neg=0,0\n",
    "for line in f:\n",
    "    try:\n",
    "        chat=line.split('-')[1].split(':')[1]\n",
    "        name=line.split('-')[1].split(':')[0]\n",
    "        if opinion.get(name,None) is None:\n",
    "            opinion[name]=[0,0]\n",
    "        res=classifier.classify(clean(chat))\n",
    "        print(name,res,chat)\n",
    "        if res=='positive':\n",
    "            pos+=1\n",
    "            opinion[name][0]+=1\n",
    "        else:\n",
    "            neg+=1\n",
    "            opinion[name][1]+=1\n",
    "    except:\n",
    "        pass\n",
    "print(\"positive: {} \\nNegative: {}\".format(pos,neg))"
   ]
  },
  {
   "cell_type": "code",
   "execution_count": 5,
   "metadata": {
    "scrolled": true
   },
   "outputs": [
    {
     "data": {
      "image/png": "[encoded data removed]",
      "text/plain": [
       "<Figure size 640x480 with 1 Axes>"
      ]
     },
     "metadata": {},
     "output_type": "display_data"
    }
   ],
   "source": [
    "neg=abs(neg)\n",
    "labels = ['positive','negative']\n",
    "sizes = [pos,neg]\n",
    "%matplotlib inline\n",
    "fig1, ax1 = plt.subplots()\n",
    "ax1.pie(sizes ,labels=labels, autopct='%1.1f%%')\n",
    "plt.title('Whatsapp Sentiment Analysis')\n",
    "plt.show()\n"
   ]
  },
  {
   "cell_type": "code",
   "execution_count": 6,
   "metadata": {},
   "outputs": [],
   "source": [
    "names,positive,negative=[],[],[]\n",
    "for name in opinion:\n",
    "    names.append(name)\n",
    "    positive.append(opinion[name][0])\n",
    "    negative.append(opinion[name][1])\n",
    "    "
   ]
  },
  {
   "cell_type": "code",
   "execution_count": 7,
   "metadata": {},
   "outputs": [],
   "source": [
    "def autolabel(rects):\n",
    "    for rect in rects:\n",
    "        h = rect.get_height()\n",
    "        ax1.text(rect.get_x()+rect.get_width()/2., 1.05*h, '%d'%int(h),\n",
    "                ha='center', va='bottom')\n"
   ]
  },
  {
   "cell_type": "code",
   "execution_count": 8,
   "metadata": {},
   "outputs": [
    {
     "data": {
      "image/png": "[encoded data removed]",
      "text/plain": [
       "<Figure size 640x480 with 1 Axes>"
      ]
     },
     "metadata": {},
     "output_type": "display_data"
    }
   ],
   "source": [
    "import numpy as np\n",
    "import matplotlib.pyplot as plt\n",
    "\n",
    "# Assuming you have correctly defined ind, names, positive, and negative arrays or lists\n",
    "\n",
    "width = 0.3\n",
    "max_x = max(max(positive), max(negative)) + 2\n",
    "ind = np.arange(len(names))\n",
    "\n",
    "fig = plt.figure()\n",
    "ax = fig.add_subplot()\n",
    "\n",
    "rects1 = ax.bar(ind, positive, width, color='g')\n",
    "rects2 = ax.bar(ind + width, negative, width, color='r')\n",
    "\n",
    "ax.set_xlabel('Names')\n",
    "ax.set_ylabel('Sentiment')\n",
    "ax.set_xticks(ind + width)\n",
    "ax.set_yticks(np.arange(0, max_x, 1))\n",
    "ax.set_xticklabels(names)\n",
    "ax.legend((rects1[0], rects2[0]), ('positive', 'negative'))\n",
    "ax.set_title('Whatsapp Chat Sentiment Analysis')\n",
    "\n",
    "# The autolabel function should be defined properly for labeling bars if used.\n",
    "\n",
    "plt.show()\n"
   ]
  },
  {
   "cell_type": "code",
   "execution_count": null,
   "metadata": {},
   "outputs": [],
   "source": []
  }
 ],
 "metadata": {
  "kernelspec": {
   "display_name": "Python 3 (ipykernel)",
   "language": "python",
   "name": "python3"
  },
  "language_info": {
   "codemirror_mode": {
    "name": "ipython",
    "version": 3
   },
   "file_extension": ".py",
   "mimetype": "text/x-python",
   "name": "python",
   "nbconvert_exporter": "python",
   "pygments_lexer": "ipython3",
   "version": "3.13.0"
  }
 },
 "nbformat": 4,
 "nbformat_minor": 4
}
